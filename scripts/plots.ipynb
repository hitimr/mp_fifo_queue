{
 "metadata": {
  "language_info": {
   "codemirror_mode": {
    "name": "ipython",
    "version": 3
   },
   "file_extension": ".py",
   "mimetype": "text/x-python",
   "name": "python",
   "nbconvert_exporter": "python",
   "pygments_lexer": "ipython3",
   "version": "3.8.5"
  },
  "orig_nbformat": 4,
  "kernelspec": {
   "name": "python3",
   "display_name": "Python 3.8.5 64-bit ('usr')"
  },
  "interpreter": {
   "hash": "31f2aee4e71d21fbe5cf8b01ff0e069b9275f58929596ceb00d14d90e3e16cd6"
  }
 },
 "nbformat": 4,
 "nbformat_minor": 2,
 "cells": [
  {
   "cell_type": "code",
   "execution_count": 6,
   "metadata": {},
   "outputs": [],
   "source": [
    "import pandas as pd\r\n",
    "import numpy as np\r\n",
    "import seaborn as sns\r\n",
    "sns.set_theme(style=\"darkgrid\")"
   ]
  },
  {
   "cell_type": "code",
   "execution_count": 8,
   "metadata": {},
   "outputs": [
    {
     "output_type": "execute_result",
     "data": {
      "text/plain": [
       "   thread count  object count  object size  total enqueue time  \\\n",
       "0             8        100000           10             12.3448   \n",
       "1             8        100000           10             11.6496   \n",
       "2             8        100000           10             11.7403   \n",
       "3             8        100000           10             11.4582   \n",
       "4             8        100000           10             12.0093   \n",
       "5             8        100000           10             12.0691   \n",
       "6             8        100000           10             11.1459   \n",
       "7             8        100000           10             11.8610   \n",
       "8             8        100000           10             11.4652   \n",
       "9             8        100000           10             11.7106   \n",
       "\n",
       "   total dequeue time  enqueue rate  dequeue rate  \n",
       "0             26.3857       8100.58       473.741  \n",
       "1             26.3067       8583.99       475.164  \n",
       "2             27.0460       8517.67       462.176  \n",
       "3             25.5475       8727.37       489.285  \n",
       "4             26.4498       8326.88       472.593  \n",
       "5             26.4118       8285.62       473.273  \n",
       "6             25.7331       8971.91       485.756  \n",
       "7             27.2430       8430.99       458.833  \n",
       "8             26.0920       8722.05       479.074  \n",
       "9             26.2031       8539.27       477.043  "
      ],
      "text/html": "<div>\n<style scoped>\n    .dataframe tbody tr th:only-of-type {\n        vertical-align: middle;\n    }\n\n    .dataframe tbody tr th {\n        vertical-align: top;\n    }\n\n    .dataframe thead th {\n        text-align: right;\n    }\n</style>\n<table border=\"1\" class=\"dataframe\">\n  <thead>\n    <tr style=\"text-align: right;\">\n      <th></th>\n      <th>thread count</th>\n      <th>object count</th>\n      <th>object size</th>\n      <th>total enqueue time</th>\n      <th>total dequeue time</th>\n      <th>enqueue rate</th>\n      <th>dequeue rate</th>\n    </tr>\n  </thead>\n  <tbody>\n    <tr>\n      <th>0</th>\n      <td>8</td>\n      <td>100000</td>\n      <td>10</td>\n      <td>12.3448</td>\n      <td>26.3857</td>\n      <td>8100.58</td>\n      <td>473.741</td>\n    </tr>\n    <tr>\n      <th>1</th>\n      <td>8</td>\n      <td>100000</td>\n      <td>10</td>\n      <td>11.6496</td>\n      <td>26.3067</td>\n      <td>8583.99</td>\n      <td>475.164</td>\n    </tr>\n    <tr>\n      <th>2</th>\n      <td>8</td>\n      <td>100000</td>\n      <td>10</td>\n      <td>11.7403</td>\n      <td>27.0460</td>\n      <td>8517.67</td>\n      <td>462.176</td>\n    </tr>\n    <tr>\n      <th>3</th>\n      <td>8</td>\n      <td>100000</td>\n      <td>10</td>\n      <td>11.4582</td>\n      <td>25.5475</td>\n      <td>8727.37</td>\n      <td>489.285</td>\n    </tr>\n    <tr>\n      <th>4</th>\n      <td>8</td>\n      <td>100000</td>\n      <td>10</td>\n      <td>12.0093</td>\n      <td>26.4498</td>\n      <td>8326.88</td>\n      <td>472.593</td>\n    </tr>\n    <tr>\n      <th>5</th>\n      <td>8</td>\n      <td>100000</td>\n      <td>10</td>\n      <td>12.0691</td>\n      <td>26.4118</td>\n      <td>8285.62</td>\n      <td>473.273</td>\n    </tr>\n    <tr>\n      <th>6</th>\n      <td>8</td>\n      <td>100000</td>\n      <td>10</td>\n      <td>11.1459</td>\n      <td>25.7331</td>\n      <td>8971.91</td>\n      <td>485.756</td>\n    </tr>\n    <tr>\n      <th>7</th>\n      <td>8</td>\n      <td>100000</td>\n      <td>10</td>\n      <td>11.8610</td>\n      <td>27.2430</td>\n      <td>8430.99</td>\n      <td>458.833</td>\n    </tr>\n    <tr>\n      <th>8</th>\n      <td>8</td>\n      <td>100000</td>\n      <td>10</td>\n      <td>11.4652</td>\n      <td>26.0920</td>\n      <td>8722.05</td>\n      <td>479.074</td>\n    </tr>\n    <tr>\n      <th>9</th>\n      <td>8</td>\n      <td>100000</td>\n      <td>10</td>\n      <td>11.7106</td>\n      <td>26.2031</td>\n      <td>8539.27</td>\n      <td>477.043</td>\n    </tr>\n  </tbody>\n</table>\n</div>"
     },
     "metadata": {},
     "execution_count": 8
    }
   ],
   "source": [
    "infile = \"../measurements/FIFO Queue_8_100000.csv\"\n",
    "pd.read_csv(infile, sep=\";\")"
   ]
  },
  {
   "cell_type": "code",
   "execution_count": null,
   "metadata": {},
   "outputs": [],
   "source": [
    "sns.lineplot(x=\"timepoint\", y=\"signal\",\n",
    "             hue=\"region\", style=\"event\",\n",
    "             data=fmri)"
   ]
  }
 ]
}