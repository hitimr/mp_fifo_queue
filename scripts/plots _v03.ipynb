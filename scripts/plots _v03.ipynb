{
 "metadata": {
  "language_info": {
   "codemirror_mode": {
    "name": "ipython",
    "version": 3
   },
   "file_extension": ".py",
   "mimetype": "text/x-python",
   "name": "python",
   "nbconvert_exporter": "python",
   "pygments_lexer": "ipython3",
   "version": "3.8.5"
  },
  "orig_nbformat": 4,
  "kernelspec": {
   "name": "python3",
   "display_name": "Python 3.8.5 64-bit"
  },
  "interpreter": {
   "hash": "31f2aee4e71d21fbe5cf8b01ff0e069b9275f58929596ceb00d14d90e3e16cd6"
  }
 },
 "nbformat": 4,
 "nbformat_minor": 2,
 "cells": [
  {
   "cell_type": "code",
   "execution_count": 4,
   "metadata": {},
   "outputs": [],
   "source": [
    "import pandas as pd\n",
    "import numpy as np\n",
    "import matplotlib.pyplot as plt\n",
    "import seaborn as sns\n",
    "import glob\n",
    "\n",
    "sns.set_theme(style=\"darkgrid\")\n",
    "\n",
    "# Finished evaluating FIFO Queue\n",
    "# average total Enqueue time [ms] = 0.18774\n",
    "# average enqueues/s [1/ms] = 6543.13\n",
    "# average time per enqueue [ns] = 0.152832\n",
    "# average total Dequeue time [ms] = 0.30368\n",
    "# average dequeues/s [1/ms] = 429.304\n",
    "# average time per dequeue [ns] = 2.32935"
   ]
  },
  {
   "cell_type": "code",
   "execution_count": 5,
   "metadata": {
    "tags": []
   },
   "outputs": [],
   "source": [
    "path = '../measurements'\n",
    "all_files = glob.glob(path + \"/*.csv\")\n",
    "\n",
    "fifoname, lbqname, scqname = 'FIFO', 'LockBased', 'SCQ'\n",
    "\n",
    "df = pd.DataFrame()\n",
    "\n",
    "objectcnt = [100, 1000, 10000]\n",
    "outputtype = [\"total enqueue time\", \"total dequeue time\", \"enqueue rate\", \"dequeue rate\"]\n",
    "\n",
    "fifo = pd.DataFrame()\n",
    "\n",
    "lbq = pd.DataFrame()\n",
    "\n",
    "scq = pd.DataFrame()\n",
    "\n",
    "for f in all_files:\n",
    "    \n",
    "    df1 = pd.read_csv(f, sep=\";\")\n",
    "\n",
    "    if fifoname in f:\n",
    "        fifo = fifo.append(df1)\n",
    "    elif lbqname in f:\n",
    "        lbq = lbq.append(df1)\n",
    "    \n",
    "    df = df.append(df1)"
   ]
  },
  {
   "cell_type": "code",
   "execution_count": 6,
   "metadata": {},
   "outputs": [],
   "source": [
    "for plottype in outputtype:\n",
    "    for cnt in objectcnt:\n",
    "        plotdata = sns.lineplot(x=\"thread count\", y=plottype, label=\"fifo\", data=fifo.loc[fifo['object count'] == cnt])\n",
    "        plotdata = sns.lineplot(x=\"thread count\", y=plottype, label=\"lbq\", data=lbq.loc[lbq['object count'] == cnt])\n",
    "        plotdata.legend(bbox_to_anchor=(1.05, 1), loc=2, borderaxespad=0.)\n",
    "        plottitle = \"total enqueue time, object size \" + str(cnt)\n",
    "        plotdata.set(xlabel =\"thread count\", ylabel = plottype + \" [ns]\", title =plottitle)\n",
    "        plt.tight_layout()\n",
    "        path = './plots/' + plottype + '_' + str(cnt) + '.png'\n",
    "        plt.savefig(path)\n",
    "        plt.close()"
   ]
  },
  {
   "cell_type": "code",
   "execution_count": null,
   "metadata": {},
   "outputs": [],
   "source": []
  }
 ]
}